{
 "cells": [
  {
   "cell_type": "code",
   "execution_count": 1,
   "metadata": {},
   "outputs": [],
   "source": [
    "from multiprocessing.spawn import prepare\n",
    "from django.shortcuts import render\n",
    "import os\n",
    "import datetime\n",
    "import requests\n",
    "import shutil\n",
    "from django.conf import settings\n",
    "from django.http import HttpResponse, FileResponse\n",
    "from django.http import StreamingHttpResponse\n",
    "import json\n",
    "import re\n",
    "import mlflow\n",
    "from mlflow import MlflowClient\n",
    "from mlflow.tracking import MlflowClient\n",
    "# from . models import Task_Category\n",
    "import qrcode\n",
    "import base64\n",
    "import io\n",
    "import re\n",
    "\n",
    "os.environ['AWS_ACCESS_KEY_ID'] = 'admin'\n",
    "os.environ['AWS_SECRET_ACCESS_KEY'] = 'admin8888'\n",
    "os.environ['MLFLOW_TRACKING_URI'] = 'http://195.130.121.234:8085/'\n",
    "os.environ['MLFLOW_S3_ENDPOINT_URL'] = 'http://195.130.121.234:8089/'\n",
    "\n",
    "client = MlflowClient()"
   ]
  },
  {
   "cell_type": "code",
   "execution_count": 2,
   "metadata": {},
   "outputs": [],
   "source": [
    "experiments = client.search_experiments()\n",
    "models = client.search_registered_models()"
   ]
  },
  {
   "cell_type": "code",
   "execution_count": 32,
   "metadata": {},
   "outputs": [],
   "source": [
    "model = models[0]"
   ]
  },
  {
   "cell_type": "code",
   "execution_count": 4,
   "metadata": {},
   "outputs": [
    {
     "name": "stdout",
     "output_type": "stream",
     "text": [
      "Classification\n"
     ]
    }
   ],
   "source": [
    "print(model.tags.get('Task'))"
   ]
  },
  {
   "cell_type": "code",
   "execution_count": 35,
   "metadata": {},
   "outputs": [],
   "source": [
    "model = client.get_registered_model(model.name)"
   ]
  },
  {
   "cell_type": "code",
   "execution_count": 53,
   "metadata": {},
   "outputs": [
    {
     "data": {
      "text/plain": [
       "'Eva Pachetti'"
      ]
     },
     "execution_count": 53,
     "metadata": {},
     "output_type": "execute_result"
    }
   ],
   "source": [
    "model.latest_versions[0].tags.get('Author')"
   ]
  },
  {
   "cell_type": "code",
   "execution_count": 43,
   "metadata": {},
   "outputs": [
    {
     "data": {
      "text/plain": [
       "'138'"
      ]
     },
     "execution_count": 43,
     "metadata": {},
     "output_type": "execute_result"
    }
   ],
   "source": [
    "model.latest_versions[0].tags.get('Experiment_ID')"
   ]
  },
  {
   "cell_type": "code",
   "execution_count": 51,
   "metadata": {},
   "outputs": [
    {
     "data": {
      "text/plain": [
       "{'dataset_created': '2023-10-13 15:36:14.484195',\n",
       " 'dataset_modified': '2023-08-01T00:00:00',\n",
       " 'dataset_type': '.dcm,.yaml,.parquet',\n",
       " 'dataset_number_of_cases': '50',\n",
       " 'dataset_md5': 'ce56ead5301457158bc9558160d9b495.dir',\n",
       " 'dataset_size': '627861366',\n",
       " 'dataset_nfiles': '1404',\n",
       " 'dataset_path': 'data',\n",
       " 'dataset_coregs': 'd033b870c620fd57fa8ffe74b95306bd',\n",
       " 'dataset_ecrfs_series': '598dc33881b8ad844c1fa1f56df12611',\n",
       " 'dataset_motcor': '9c7bcc096a554bd355347220e9fa97a2',\n",
       " 'dataset_segments': 'd59201f7c1f140695d45f732c4b31f5f',\n",
       " 'dataset_ageHigh': '91',\n",
       " 'dataset_ageLow': '0',\n",
       " 'dataset_annotated': 'True',\n",
       " 'dataset_anonymized': 'True',\n",
       " 'dataset_contactPoint': 'procancer-i-technical@procancer-i.eu',\n",
       " 'dataset_description': 'This dataset contains a collection of retrospective patients with confirmed PCa at biopsy and/or prostatectomy.',\n",
       " 'dataset_deviceManufacturer': 'General Electric, Toshiba, Philips, Quibim, Siemens',\n",
       " 'dataset_distribution': 'aaaadczjudn6oascvqlaabiaae',\n",
       " 'dataset_hasVersion': '20230801',\n",
       " 'dataset_identifier': 'f45aaa2dc3c44b6583e2ae09a6643ed2',\n",
       " 'dataset_images': '2960419',\n",
       " 'dataset_intendedPurpose': 'Characterization of cancer according to its biological aggressiveness into clinically significant and non-significant disease. UC2 aims to stratify men with suspicious findings on MRI into high-risk cases, which need radical treatments to ensure that cancer will not grow and spread to remote parts of the body becoming a deadly disease, from low-risk cases which could be safely followed-up with active surveillance, avoiding comorbidities of treatment and ensuring the highest possible quality of life for patients',\n",
       " 'dataset_language': 'eng',\n",
       " 'dataset_license': 'https://cbmlbox.ics.forth.gr/index.php/apps/files/?dir=/ProCAncer-I/Deliverables/D2.4%20-%20Terms%20and%20Conditions&openfile=604322',\n",
       " 'dataset_metadataIssued': '2023-10-13T18:21:55.371744',\n",
       " 'dataset_modality': 'MR, OT, SEG, SC',\n",
       " 'dataset_publisher': 'procancer-i',\n",
       " 'dataset_rights': 'restricted',\n",
       " 'dataset_series': '43583',\n",
       " 'dataset_seriesTypes': 'DWI, DCE, OTHERS, T2, ADC, None',\n",
       " 'dataset_studies': '5434',\n",
       " 'dataset_subjects': '5432',\n",
       " 'dataset_title': 'Use Case 2 - retrospective',\n",
       " 'dataset_url': 's3://data-aipassport-demo',\n",
       " 'dataset_endpointurl': 'http://195.130.121.234:8089/',\n",
       " 'dataset_Author': 'FORTH',\n",
       " 'dataset_mask': 'yes',\n",
       " 'dataset_sequence': 'DWI, DCE, OTHERS, T2, ADC, None',\n",
       " 'dataset_name': 'Use Case 2 - retrospective',\n",
       " 'dataset_desc': 'This dataset contains a collection of retrospective patients with confirmed PCa at biopsy and/or prostatectomy.',\n",
       " 'dataset_manufacturer': 'MR, OT, SEG, SC',\n",
       " 'dataset_purpose': 'Characterization of cancer according to its biological aggressiveness into clinically significant and non-significant disease. UC2 aims to stratify men with suspicious findings on MRI into high-risk cases, which need radical treatments to ensure that cancer will not grow and spread to remote parts of the body becoming a deadly disease, from low-risk cases which could be safely followed-up with active surveillance, avoiding comorbidities of treatment and ensuring the highest possible quality of life for patients',\n",
       " 'dataset_Provenance': 'procancer-i'}"
      ]
     },
     "execution_count": 51,
     "metadata": {},
     "output_type": "execute_result"
    }
   ],
   "source": [
    "X = {key:value for key,value in client.get_run(run_id='ca2fb956ae7a4a38bb7d54c380f48d77').data.tags.items()\n",
    "    if key.startswith('dataset_')}\n",
    "\n",
    "X"
   ]
  },
  {
   "cell_type": "code",
   "execution_count": 52,
   "metadata": {},
   "outputs": [
    {
     "data": {
      "text/plain": [
       "{'dataset_created': '2023-10-13 15:36:14.484195',\n",
       " 'dataset_modified': '2023-08-01T00:00:00',\n",
       " 'dataset_type': '.dcm,.yaml,.parquet',\n",
       " 'dataset_number_of_cases': '50',\n",
       " 'dataset_md5': 'ce56ead5301457158bc9558160d9b495.dir',\n",
       " 'dataset_size': '627861366',\n",
       " 'dataset_nfiles': '1404',\n",
       " 'dataset_path': 'data',\n",
       " 'dataset_coregs': 'd033b870c620fd57fa8ffe74b95306bd',\n",
       " 'dataset_ecrfs_series': '598dc33881b8ad844c1fa1f56df12611',\n",
       " 'dataset_motcor': '9c7bcc096a554bd355347220e9fa97a2',\n",
       " 'dataset_segments': 'd59201f7c1f140695d45f732c4b31f5f',\n",
       " 'dataset_ageHigh': '91',\n",
       " 'dataset_ageLow': '0',\n",
       " 'dataset_annotated': 'True',\n",
       " 'dataset_anonymized': 'True',\n",
       " 'dataset_contactPoint': 'procancer-i-technical@procancer-i.eu',\n",
       " 'dataset_description': 'This dataset contains a collection of retrospective patients with confirmed PCa at biopsy and/or prostatectomy.',\n",
       " 'dataset_deviceManufacturer': 'General Electric, Toshiba, Philips, Quibim, Siemens',\n",
       " 'dataset_distribution': 'aaaadczjudn6oascvqlaabiaae',\n",
       " 'dataset_hasVersion': '20230801',\n",
       " 'dataset_identifier': 'f45aaa2dc3c44b6583e2ae09a6643ed2',\n",
       " 'dataset_images': '2960419',\n",
       " 'dataset_intendedPurpose': 'Characterization of cancer according to its biological aggressiveness into clinically significant and non-significant disease. UC2 aims to stratify men with suspicious findings on MRI into high-risk cases, which need radical treatments to ensure that cancer will not grow and spread to remote parts of the body becoming a deadly disease, from low-risk cases which could be safely followed-up with active surveillance, avoiding comorbidities of treatment and ensuring the highest possible quality of life for patients',\n",
       " 'dataset_language': 'eng',\n",
       " 'dataset_license': 'https://cbmlbox.ics.forth.gr/index.php/apps/files/?dir=/ProCAncer-I/Deliverables/D2.4%20-%20Terms%20and%20Conditions&openfile=604322',\n",
       " 'dataset_metadataIssued': '2023-10-13T18:21:55.371744',\n",
       " 'dataset_modality': 'MR, OT, SEG, SC',\n",
       " 'dataset_publisher': 'procancer-i',\n",
       " 'dataset_rights': 'restricted',\n",
       " 'dataset_series': '43583',\n",
       " 'dataset_seriesTypes': 'DWI, DCE, OTHERS, T2, ADC, None',\n",
       " 'dataset_studies': '5434',\n",
       " 'dataset_subjects': '5432',\n",
       " 'dataset_title': 'Use Case 2 - retrospective',\n",
       " 'dataset_url': 's3://data-aipassport-demo',\n",
       " 'dataset_endpointurl': 'http://195.130.121.234:8089/',\n",
       " 'dataset_Author': 'FORTH',\n",
       " 'dataset_mask': 'yes',\n",
       " 'dataset_sequence': 'DWI, DCE, OTHERS, T2, ADC, None',\n",
       " 'dataset_desc': 'This dataset contains a collection of retrospective patients with confirmed PCa at biopsy and/or prostatectomy.',\n",
       " 'dataset_manufacturer': 'MR, OT, SEG, SC',\n",
       " 'dataset_purpose': 'Characterization of cancer according to its biological aggressiveness into clinically significant and non-significant disease. UC2 aims to stratify men with suspicious findings on MRI into high-risk cases, which need radical treatments to ensure that cancer will not grow and spread to remote parts of the body becoming a deadly disease, from low-risk cases which could be safely followed-up with active surveillance, avoiding comorbidities of treatment and ensuring the highest possible quality of life for patients',\n",
       " 'dataset_Provenance': 'procancer-i',\n",
       " 'dataset_Name': 'Use Case 2 - retrospective'}"
      ]
     },
     "execution_count": 52,
     "metadata": {},
     "output_type": "execute_result"
    }
   ],
   "source": [
    "X[\"dataset_Name\"] = X.pop('dataset_name')\n",
    "X"
   ]
  },
  {
   "cell_type": "code",
   "execution_count": 86,
   "metadata": {},
   "outputs": [],
   "source": [
    "from PIL import Image, ImageDraw, ImageFont\n",
    "import io\n",
    "\n",
    "# Create an image with the author's name when qr_code is None\n",
    "image_width = 300\n",
    "image_height = 300\n",
    "background_color = (255, 255, 255)\n",
    "text_color = (0, 0, 0)\n",
    "\n",
    "image = Image.new(\"RGB\", (image_width, image_height), background_color)\n",
    "draw = ImageDraw.Draw(image)\n",
    "\n",
    "font = ImageFont.truetype(\"arial.ttf\", 30)\n",
    "text = \"author_name\"\n",
    "\n",
    "text_width = draw.textlength(text, font=font)\n",
    "text_height = font.getbbox(text)[-1]  # get the height of the font\n",
    "text_x = (image_width - text_width) // 2\n",
    "text_y = (image_height - text_height) // 2\n",
    "\n",
    "draw.text((text_x, text_y), text, fill=text_color, font=font,stroke_width=1)\n",
    "\n",
    "# Convert the image to bytes\n",
    "img_byte_array = io.BytesIO()\n",
    "image.save(img_byte_array, format='PNG')\n",
    "img_byte_array.seek(0)\n",
    "\n",
    "img = Image.open(img_byte_array)\n"
   ]
  },
  {
   "cell_type": "code",
   "execution_count": 87,
   "metadata": {},
   "outputs": [],
   "source": [
    "img.show()"
   ]
  },
  {
   "cell_type": "code",
   "execution_count": 82,
   "metadata": {},
   "outputs": [
    {
     "data": {
      "text/plain": [
       "(0, 6, 179, 34)"
      ]
     },
     "execution_count": 82,
     "metadata": {},
     "output_type": "execute_result"
    }
   ],
   "source": [
    "font.getbbox(text)"
   ]
  },
  {
   "cell_type": "code",
   "execution_count": 66,
   "metadata": {},
   "outputs": [
    {
     "data": {
      "text/plain": [
       "63.0"
      ]
     },
     "execution_count": 66,
     "metadata": {},
     "output_type": "execute_result"
    }
   ],
   "source": [
    "font.getlength(text)"
   ]
  }
 ],
 "metadata": {
  "kernelspec": {
   "display_name": ".venv",
   "language": "python",
   "name": "python3"
  },
  "language_info": {
   "codemirror_mode": {
    "name": "ipython",
    "version": 3
   },
   "file_extension": ".py",
   "mimetype": "text/x-python",
   "name": "python",
   "nbconvert_exporter": "python",
   "pygments_lexer": "ipython3",
   "version": "3.11.4"
  }
 },
 "nbformat": 4,
 "nbformat_minor": 2
}
